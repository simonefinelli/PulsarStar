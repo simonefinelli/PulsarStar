{
 "cells": [
  {
   "cell_type": "markdown",
   "metadata": {},
   "source": [
    "# PREDICT A PULSAR STAR\n",
    "## Classification"
   ]
  },
  {
   "cell_type": "markdown",
   "metadata": {},
   "source": [
    "### Load Data"
   ]
  },
  {
   "cell_type": "code",
   "execution_count": 1,
   "metadata": {},
   "outputs": [],
   "source": [
    "import os\n",
    "import pandas as pd\n",
    "\n",
    "DATA_PATH = '../DATA/'\n",
    "FILE_NAME = 'pulsar_stars.csv'\n",
    "def load_data(data_path=DATA_PATH, file_name=FILE_NAME):\n",
    "    csv_path = os.path.join(data_path, file_name)\n",
    "    return pd.read_csv(csv_path)\n",
    "\n",
    "dataset = load_data()"
   ]
  },
  {
   "cell_type": "markdown",
   "metadata": {},
   "source": [
    "### View Data and Informations"
   ]
  },
  {
   "cell_type": "code",
   "execution_count": 2,
   "metadata": {},
   "outputs": [
    {
     "data": {
      "text/html": [
       "<div>\n",
       "<style scoped>\n",
       "    .dataframe tbody tr th:only-of-type {\n",
       "        vertical-align: middle;\n",
       "    }\n",
       "\n",
       "    .dataframe tbody tr th {\n",
       "        vertical-align: top;\n",
       "    }\n",
       "\n",
       "    .dataframe thead th {\n",
       "        text-align: right;\n",
       "    }\n",
       "</style>\n",
       "<table border=\"1\" class=\"dataframe\">\n",
       "  <thead>\n",
       "    <tr style=\"text-align: right;\">\n",
       "      <th></th>\n",
       "      <th>Mean of the integrated profile</th>\n",
       "      <th>Standard deviation of the integrated profile</th>\n",
       "      <th>Excess kurtosis of the integrated profile</th>\n",
       "      <th>Skewness of the integrated profile</th>\n",
       "      <th>Mean of the DM-SNR curve</th>\n",
       "      <th>Standard deviation of the DM-SNR curve</th>\n",
       "      <th>Excess kurtosis of the DM-SNR curve</th>\n",
       "      <th>Skewness of the DM-SNR curve</th>\n",
       "      <th>target_class</th>\n",
       "    </tr>\n",
       "  </thead>\n",
       "  <tbody>\n",
       "    <tr>\n",
       "      <th>0</th>\n",
       "      <td>140.562500</td>\n",
       "      <td>55.683782</td>\n",
       "      <td>-0.234571</td>\n",
       "      <td>-0.699648</td>\n",
       "      <td>3.199833</td>\n",
       "      <td>19.110426</td>\n",
       "      <td>7.975532</td>\n",
       "      <td>74.242225</td>\n",
       "      <td>0</td>\n",
       "    </tr>\n",
       "    <tr>\n",
       "      <th>1</th>\n",
       "      <td>102.507812</td>\n",
       "      <td>58.882430</td>\n",
       "      <td>0.465318</td>\n",
       "      <td>-0.515088</td>\n",
       "      <td>1.677258</td>\n",
       "      <td>14.860146</td>\n",
       "      <td>10.576487</td>\n",
       "      <td>127.393580</td>\n",
       "      <td>0</td>\n",
       "    </tr>\n",
       "    <tr>\n",
       "      <th>2</th>\n",
       "      <td>103.015625</td>\n",
       "      <td>39.341649</td>\n",
       "      <td>0.323328</td>\n",
       "      <td>1.051164</td>\n",
       "      <td>3.121237</td>\n",
       "      <td>21.744669</td>\n",
       "      <td>7.735822</td>\n",
       "      <td>63.171909</td>\n",
       "      <td>0</td>\n",
       "    </tr>\n",
       "    <tr>\n",
       "      <th>3</th>\n",
       "      <td>136.750000</td>\n",
       "      <td>57.178449</td>\n",
       "      <td>-0.068415</td>\n",
       "      <td>-0.636238</td>\n",
       "      <td>3.642977</td>\n",
       "      <td>20.959280</td>\n",
       "      <td>6.896499</td>\n",
       "      <td>53.593661</td>\n",
       "      <td>0</td>\n",
       "    </tr>\n",
       "    <tr>\n",
       "      <th>4</th>\n",
       "      <td>88.726562</td>\n",
       "      <td>40.672225</td>\n",
       "      <td>0.600866</td>\n",
       "      <td>1.123492</td>\n",
       "      <td>1.178930</td>\n",
       "      <td>11.468720</td>\n",
       "      <td>14.269573</td>\n",
       "      <td>252.567306</td>\n",
       "      <td>0</td>\n",
       "    </tr>\n",
       "  </tbody>\n",
       "</table>\n",
       "</div>"
      ],
      "text/plain": [
       "    Mean of the integrated profile  \\\n",
       "0                       140.562500   \n",
       "1                       102.507812   \n",
       "2                       103.015625   \n",
       "3                       136.750000   \n",
       "4                        88.726562   \n",
       "\n",
       "    Standard deviation of the integrated profile  \\\n",
       "0                                      55.683782   \n",
       "1                                      58.882430   \n",
       "2                                      39.341649   \n",
       "3                                      57.178449   \n",
       "4                                      40.672225   \n",
       "\n",
       "    Excess kurtosis of the integrated profile  \\\n",
       "0                                   -0.234571   \n",
       "1                                    0.465318   \n",
       "2                                    0.323328   \n",
       "3                                   -0.068415   \n",
       "4                                    0.600866   \n",
       "\n",
       "    Skewness of the integrated profile   Mean of the DM-SNR curve  \\\n",
       "0                            -0.699648                   3.199833   \n",
       "1                            -0.515088                   1.677258   \n",
       "2                             1.051164                   3.121237   \n",
       "3                            -0.636238                   3.642977   \n",
       "4                             1.123492                   1.178930   \n",
       "\n",
       "    Standard deviation of the DM-SNR curve  \\\n",
       "0                                19.110426   \n",
       "1                                14.860146   \n",
       "2                                21.744669   \n",
       "3                                20.959280   \n",
       "4                                11.468720   \n",
       "\n",
       "    Excess kurtosis of the DM-SNR curve   Skewness of the DM-SNR curve  \\\n",
       "0                              7.975532                      74.242225   \n",
       "1                             10.576487                     127.393580   \n",
       "2                              7.735822                      63.171909   \n",
       "3                              6.896499                      53.593661   \n",
       "4                             14.269573                     252.567306   \n",
       "\n",
       "   target_class  \n",
       "0             0  \n",
       "1             0  \n",
       "2             0  \n",
       "3             0  \n",
       "4             0  "
      ]
     },
     "execution_count": 2,
     "metadata": {},
     "output_type": "execute_result"
    }
   ],
   "source": [
    "dataset.head()"
   ]
  },
  {
   "cell_type": "code",
   "execution_count": 3,
   "metadata": {},
   "outputs": [
    {
     "name": "stdout",
     "output_type": "stream",
     "text": [
      "<class 'pandas.core.frame.DataFrame'>\n",
      "RangeIndex: 17898 entries, 0 to 17897\n",
      "Data columns (total 9 columns):\n",
      " #   Column                                         Non-Null Count  Dtype  \n",
      "---  ------                                         --------------  -----  \n",
      " 0    Mean of the integrated profile                17898 non-null  float64\n",
      " 1    Standard deviation of the integrated profile  17898 non-null  float64\n",
      " 2    Excess kurtosis of the integrated profile     17898 non-null  float64\n",
      " 3    Skewness of the integrated profile            17898 non-null  float64\n",
      " 4    Mean of the DM-SNR curve                      17898 non-null  float64\n",
      " 5    Standard deviation of the DM-SNR curve        17898 non-null  float64\n",
      " 6    Excess kurtosis of the DM-SNR curve           17898 non-null  float64\n",
      " 7    Skewness of the DM-SNR curve                  17898 non-null  float64\n",
      " 8   target_class                                   17898 non-null  int64  \n",
      "dtypes: float64(8), int64(1)\n",
      "memory usage: 1.2 MB\n"
     ]
    }
   ],
   "source": [
    "dataset.info()"
   ]
  },
  {
   "cell_type": "code",
   "execution_count": 4,
   "metadata": {},
   "outputs": [
    {
     "name": "stdout",
     "output_type": "stream",
     "text": [
      "Pulsar Star:\t  1639 \n",
      "Not Pulsar Star:  16259\n"
     ]
    }
   ],
   "source": [
    "not_pulsar, pulsar = dataset['target_class'].value_counts()\n",
    "\n",
    "print(\"Pulsar Star:\\t \", pulsar,\"\\nNot Pulsar Star: \", not_pulsar)"
   ]
  },
  {
   "cell_type": "code",
   "execution_count": 5,
   "metadata": {
    "scrolled": false
   },
   "outputs": [
    {
     "data": {
      "image/png": "[encoded data removed]",
      "text/plain": [
       "<Figure size 1440x1080 with 9 Axes>"
      ]
     },
     "metadata": {
      "needs_background": "light"
     },
     "output_type": "display_data"
    }
   ],
   "source": [
    "import matplotlib.pyplot as plt\n",
    "\n",
    "custom_color = '#ff7400'\n",
    "dataset.hist(bins=50, figsize=(20,15), color=custom_color)\n",
    "plt.show()"
   ]
  },
  {
   "cell_type": "markdown",
   "metadata": {},
   "source": [
    "### Split Dataset"
   ]
  },
  {
   "cell_type": "markdown",
   "metadata": {},
   "source": [
    "#### Get the Labels"
   ]
  },
  {
   "cell_type": "code",
   "execution_count": 6,
   "metadata": {
    "scrolled": true
   },
   "outputs": [
    {
     "name": "stdout",
     "output_type": "stream",
     "text": [
      "X: (17898, 8) \n",
      "y: (17898,)\n"
     ]
    }
   ],
   "source": [
    "X, y =  dataset.drop('target_class', axis=1), dataset['target_class'].copy()\n",
    "\n",
    "print(\"X:\",X.shape,\"\\ny:\",y.shape)"
   ]
  },
  {
   "cell_type": "markdown",
   "metadata": {},
   "source": [
    "#### Train Set and Test Set"
   ]
  },
  {
   "cell_type": "code",
   "execution_count": 7,
   "metadata": {},
   "outputs": [
    {
     "name": "stdout",
     "output_type": "stream",
     "text": [
      "80% - X_train size: 14318  y_train size: 14318\n",
      "20% - X_test size:   3580  y_test size:\t  3580\n"
     ]
    }
   ],
   "source": [
    "from sklearn.model_selection import train_test_split\n",
    "\n",
    "X_train, X_test, y_train, y_test = train_test_split(X, y, test_size=0.2, random_state=42)\n",
    "\n",
    "print(\"80% - X_train size:\", X_train.shape[0], \" y_train size:\", y_train.shape[0])\n",
    "print(\"20% - X_test size:  \", X_test.shape[0], \" y_test size:\\t \", y_test.shape[0])"
   ]
  },
  {
   "cell_type": "markdown",
   "metadata": {},
   "source": [
    "### Prepare the Data"
   ]
  },
  {
   "cell_type": "markdown",
   "metadata": {},
   "source": [
    "#### Data Transformations"
   ]
  },
  {
   "cell_type": "code",
   "execution_count": 8,
   "metadata": {},
   "outputs": [],
   "source": [
    "from sklearn.pipeline import Pipeline\n",
    "from sklearn.preprocessing import StandardScaler\n",
    "from sklearn.compose import ColumnTransformer\n",
    "\n",
    "num_attr_pipeline = Pipeline([\n",
    "                        ('std_scaler', StandardScaler())\n",
    "                    ])\n",
    "cols = list(X)\n",
    "pipeline = ColumnTransformer([\n",
    "                ('num_attr_pipeline', num_attr_pipeline, cols)\n",
    "            ])\n",
    "\n",
    "X_train_prepared = pipeline.fit_transform(X_train)"
   ]
  },
  {
   "cell_type": "markdown",
   "metadata": {},
   "source": [
    "## Training"
   ]
  },
  {
   "cell_type": "markdown",
   "metadata": {},
   "source": [
    "### Classifier: Stocastic Gradient Descend"
   ]
  },
  {
   "cell_type": "code",
   "execution_count": 9,
   "metadata": {},
   "outputs": [
    {
     "data": {
      "text/plain": [
       "SGDClassifier(alpha=0.0001, average=False, class_weight=None,\n",
       "              early_stopping=False, epsilon=0.1, eta0=0.0, fit_intercept=True,\n",
       "              l1_ratio=0.15, learning_rate='optimal', loss='hinge',\n",
       "              max_iter=1000, n_iter_no_change=5, n_jobs=None, penalty='l2',\n",
       "              power_t=0.5, random_state=42, shuffle=True, tol=0.001,\n",
       "              validation_fraction=0.1, verbose=0, warm_start=False)"
      ]
     },
     "execution_count": 9,
     "metadata": {},
     "output_type": "execute_result"
    }
   ],
   "source": [
    "from sklearn.linear_model import SGDClassifier\n",
    "\n",
    "sgd_clf = SGDClassifier(random_state=42)\n",
    "sgd_clf.fit(X_train_prepared, y_train)"
   ]
  },
  {
   "cell_type": "code",
   "execution_count": 10,
   "metadata": {},
   "outputs": [
    {
     "name": "stdout",
     "output_type": "stream",
     "text": [
      "Expected value:  [1] \n",
      "Predicted value: [0]\n"
     ]
    }
   ],
   "source": [
    "# trying a prediction\n",
    "pulsar_star = 42\n",
    "single_prediction_sgd = sgd_clf.predict([X.iloc[pulsar_star]])\n",
    "\n",
    "print(\"Expected value: \",[y[pulsar_star]],\"\\nPredicted value:\", single_prediction_sgd)"
   ]
  },
  {
   "cell_type": "markdown",
   "metadata": {},
   "source": [
    "### SGD Performance Measures"
   ]
  },
  {
   "cell_type": "markdown",
   "metadata": {},
   "source": [
    "#### SGD - Cross-Validation"
   ]
  },
  {
   "cell_type": "code",
   "execution_count": 11,
   "metadata": {},
   "outputs": [
    {
     "name": "stdout",
     "output_type": "stream",
     "text": [
      "Accuracy: 0.9787\n"
     ]
    }
   ],
   "source": [
    "from sklearn.model_selection import cross_val_score\n",
    "\n",
    "K = 3\n",
    "scores_sgd = cross_val_score(sgd_clf, X_train_prepared, y_train, cv=K, scoring=\"accuracy\")\n",
    "\n",
    "print(\"Accuracy:\", round(scores_sgd.mean(),4))"
   ]
  },
  {
   "cell_type": "markdown",
   "metadata": {},
   "source": [
    "#### SGD - Confusion Matrix"
   ]
  },
  {
   "cell_type": "code",
   "execution_count": 12,
   "metadata": {},
   "outputs": [],
   "source": [
    "import seaborn as sns\n",
    "\n",
    "#Function for drawing confusion matrix\n",
    "def draw_confusion_matrix(cm, title = 'Confusion Matrix', color = custom_color):\n",
    "    palette = sns.light_palette(color, as_cmap=True)\n",
    "    ax = plt.subplot()\n",
    "    sns.heatmap(cm, annot=True, ax=ax, fmt='d', cmap=palette)\n",
    "    # labels\n",
    "    ax.set_title('\\n' + title + '\\n', fontweight='bold')\n",
    "    ax.set_xlabel('Predicted', fontweight='bold')\n",
    "    ax.set_ylabel('Actual', fontweight='bold');\n",
    "    ax.xaxis.set_ticklabels(['Not Pulsar', 'Pulsar Star'], ha = 'center')\n",
    "    ax.yaxis.set_ticklabels(['Not Pulsar', 'Pulsar Star'], va = 'center')\n",
    "    "
   ]
  },
  {
   "cell_type": "code",
   "execution_count": 13,
   "metadata": {},
   "outputs": [
    {
     "data": {
      "image/png": "[encoded data removed]",
      "text/plain": [
       "<Figure size 432x288 with 2 Axes>"
      ]
     },
     "metadata": {
      "needs_background": "light"
     },
     "output_type": "display_data"
    }
   ],
   "source": [
    "from sklearn.model_selection import cross_val_predict\n",
    "from sklearn.metrics import confusion_matrix\n",
    "\n",
    "y_train_pred_sgd = cross_val_predict(sgd_clf, X_train_prepared, y_train, cv=K)\n",
    "\n",
    "cm_sgd = confusion_matrix(y_train, y_train_pred_sgd)\n",
    "\n",
    "draw_confusion_matrix(cm_sgd, 'SDG - Confusion Matrix')"
   ]
  },
  {
   "cell_type": "markdown",
   "metadata": {},
   "source": [
    "#### SGD - Precision and Recall"
   ]
  },
  {
   "cell_type": "code",
   "execution_count": 14,
   "metadata": {},
   "outputs": [
    {
     "name": "stdout",
     "output_type": "stream",
     "text": [
      "Precision: 0.9162 \n",
      "Recall:    0.846\n"
     ]
    }
   ],
   "source": [
    "from sklearn.metrics import precision_score, recall_score\n",
    "\n",
    "precision_sgd = precision_score(y_train, y_train_pred_sgd)\n",
    "recall_sgd = recall_score(y_train, y_train_pred_sgd)\n",
    "\n",
    "print('Precision:', round(precision_sgd,4), '\\nRecall:   ', round(recall_sgd,4))"
   ]
  },
  {
   "cell_type": "code",
   "execution_count": 15,
   "metadata": {},
   "outputs": [
    {
     "name": "stdout",
     "output_type": "stream",
     "text": [
      "F1-Score: 0.8797\n"
     ]
    }
   ],
   "source": [
    "from sklearn.metrics import f1_score\n",
    "\n",
    "f1_score_sgd = f1_score(y_train, y_train_pred_sgd)\n",
    "\n",
    "print('F1-Score:', round(f1_score_sgd,4))"
   ]
  },
  {
   "cell_type": "code",
   "execution_count": 16,
   "metadata": {},
   "outputs": [],
   "source": [
    "#Function for plotting precision and recall\n",
    "def plot_precison_vs_recall(precisions, recalls):\n",
    "    plt.plot(recalls, precisions, custom_color)\n",
    "    plt.title('Precision vs Recall')\n",
    "    plt.xlabel('Recall')\n",
    "    plt.ylabel('Precision')\n",
    "    plt.show()"
   ]
  },
  {
   "cell_type": "code",
   "execution_count": 17,
   "metadata": {
    "scrolled": true
   },
   "outputs": [
    {
     "data": {
      "image/png": "[encoded data removed]",
      "text/plain": [
       "<Figure size 432x288 with 1 Axes>"
      ]
     },
     "metadata": {
      "needs_background": "light"
     },
     "output_type": "display_data"
    }
   ],
   "source": [
    "from sklearn.metrics import precision_recall_curve\n",
    "\n",
    "# decision scores\n",
    "y_scores_sgd = cross_val_predict(sgd_clf, X_train_prepared, y_train, cv=K, method=\"decision_function\")\n",
    "\n",
    "precisions_sgd, recalls_sgd, _ = precision_recall_curve(y_train, y_scores_sgd)\n",
    "  \n",
    "plot_precison_vs_recall(precisions_sgd, recalls_sgd)"
   ]
  },
  {
   "cell_type": "markdown",
   "metadata": {},
   "source": [
    "#### SGD - ROC Curve"
   ]
  },
  {
   "cell_type": "code",
   "execution_count": 18,
   "metadata": {},
   "outputs": [],
   "source": [
    "#Function for plotting the ROC curve\n",
    "def plot_roc_curve(fpr, tpr, roc_auc):\n",
    "    plt.plot(fpr, tpr, custom_color, label='Area: %0.3f' %roc_auc, linewidth=2)\n",
    "    plt.plot([0, 1], [0, 1], 'k--')\n",
    "    plt.title('ROC Curve')\n",
    "    plt.xlabel('False Positive Rate')\n",
    "    plt.ylabel('True Positive Rate - Recall')\n",
    "    plt.legend(loc='lower right')\n",
    "    plt.show()"
   ]
  },
  {
   "cell_type": "code",
   "execution_count": 19,
   "metadata": {},
   "outputs": [
    {
     "data": {
      "image/png": "[encoded data removed]",
      "text/plain": [
       "<Figure size 432x288 with 1 Axes>"
      ]
     },
     "metadata": {
      "needs_background": "light"
     },
     "output_type": "display_data"
    }
   ],
   "source": [
    "from sklearn.metrics import roc_curve, roc_auc_score\n",
    "\n",
    "fpr_sgd, tpr_sgd, _ = roc_curve(y_train, y_scores_sgd)\n",
    "roc_auc_sgd = roc_auc_score(y_train, y_scores_sgd)\n",
    "\n",
    "plot_roc_curve(fpr_sgd, tpr_sgd, roc_auc_sgd)"
   ]
  },
  {
   "cell_type": "markdown",
   "metadata": {},
   "source": [
    "### Classifier: K-Nearest Neighbors"
   ]
  },
  {
   "cell_type": "code",
   "execution_count": 20,
   "metadata": {},
   "outputs": [
    {
     "data": {
      "text/plain": [
       "KNeighborsClassifier(algorithm='auto', leaf_size=30, metric='minkowski',\n",
       "                     metric_params=None, n_jobs=None, n_neighbors=5, p=2,\n",
       "                     weights='uniform')"
      ]
     },
     "execution_count": 20,
     "metadata": {},
     "output_type": "execute_result"
    }
   ],
   "source": [
    "from sklearn.neighbors import KNeighborsClassifier\n",
    "\n",
    "knn_clf = KNeighborsClassifier(n_neighbors=5)\n",
    "knn_clf.fit(X_train_prepared, y_train)"
   ]
  },
  {
   "cell_type": "code",
   "execution_count": 21,
   "metadata": {},
   "outputs": [
    {
     "name": "stdout",
     "output_type": "stream",
     "text": [
      "Expected value:  [1] \n",
      "Predicted value: [0]\n"
     ]
    }
   ],
   "source": [
    "# trying a prediction\n",
    "single_prediction_knn = knn_clf.predict([X.iloc[pulsar_star]])\n",
    "\n",
    "print(\"Expected value: \",[y[pulsar_star]],\"\\nPredicted value:\", single_prediction_knn)"
   ]
  },
  {
   "cell_type": "markdown",
   "metadata": {},
   "source": [
    "### KNN Performance Measures"
   ]
  },
  {
   "cell_type": "markdown",
   "metadata": {},
   "source": [
    "#### KNN - Cross-Validation"
   ]
  },
  {
   "cell_type": "code",
   "execution_count": 22,
   "metadata": {},
   "outputs": [
    {
     "name": "stdout",
     "output_type": "stream",
     "text": [
      "Accuracy: 0.9785\n"
     ]
    }
   ],
   "source": [
    "scores_knn = cross_val_score(knn_clf, X_train_prepared, y_train, cv=K, scoring=\"accuracy\")\n",
    "\n",
    "print(\"Accuracy:\", round(scores_knn.mean(),4))"
   ]
  },
  {
   "cell_type": "markdown",
   "metadata": {},
   "source": [
    "#### KNN - Confusion Matrix"
   ]
  },
  {
   "cell_type": "code",
   "execution_count": 23,
   "metadata": {},
   "outputs": [
    {
     "data": {
      "image/png": "[encoded data removed]",
      "text/plain": [
       "<Figure size 432x288 with 2 Axes>"
      ]
     },
     "metadata": {
      "needs_background": "light"
     },
     "output_type": "display_data"
    }
   ],
   "source": [
    "y_train_pred_knn = cross_val_predict(knn_clf, X_train_prepared, y_train, cv=K)\n",
    "\n",
    "cm_knn = confusion_matrix(y_train, y_train_pred_knn)\n",
    "\n",
    "draw_confusion_matrix(cm_knn, 'KNN - Confusion Matrix')"
   ]
  },
  {
   "cell_type": "markdown",
   "metadata": {},
   "source": [
    "#### KNN - Precision and Recall"
   ]
  },
  {
   "cell_type": "code",
   "execution_count": 24,
   "metadata": {},
   "outputs": [
    {
     "name": "stdout",
     "output_type": "stream",
     "text": [
      "Precision: 0.9294 \n",
      "Recall:    0.8293\n"
     ]
    }
   ],
   "source": [
    "precision_knn = precision_score(y_train, y_train_pred_knn)\n",
    "recall_knn = recall_score(y_train, y_train_pred_knn)\n",
    "\n",
    "print('Precision:', round(precision_knn,4), '\\nRecall:   ', round(recall_knn,4))"
   ]
  },
  {
   "cell_type": "code",
   "execution_count": 25,
   "metadata": {},
   "outputs": [
    {
     "name": "stdout",
     "output_type": "stream",
     "text": [
      "F1-Score: 0.8765\n"
     ]
    }
   ],
   "source": [
    "f1_score_knn = f1_score(y_train, y_train_pred_knn)\n",
    "\n",
    "print('F1-Score:', round(f1_score_knn,4))"
   ]
  },
  {
   "cell_type": "code",
   "execution_count": 26,
   "metadata": {},
   "outputs": [
    {
     "data": {
      "image/png": "[encoded data removed]",
      "text/plain": [
       "<Figure size 432x288 with 1 Axes>"
      ]
     },
     "metadata": {
      "needs_background": "light"
     },
     "output_type": "display_data"
    }
   ],
   "source": [
    "# decision scores\n",
    "y_probas_knn = cross_val_predict(knn_clf, X_train_prepared, y_train, cv=K, method=\"predict_proba\")\n",
    "y_scores_knn = y_probas_knn[:,1]\n",
    "\n",
    "precisions_knn, recalls_knn, _ = precision_recall_curve(y_train, y_scores_knn)\n",
    "    \n",
    "plot_precison_vs_recall(precisions_knn, recalls_knn)"
   ]
  },
  {
   "cell_type": "markdown",
   "metadata": {},
   "source": [
    "#### KNN - ROC Curve"
   ]
  },
  {
   "cell_type": "code",
   "execution_count": 27,
   "metadata": {},
   "outputs": [
    {
     "data": {
      "image/png": "[encoded data removed]",
      "text/plain": [
       "<Figure size 432x288 with 1 Axes>"
      ]
     },
     "metadata": {
      "needs_background": "light"
     },
     "output_type": "display_data"
    }
   ],
   "source": [
    "fpr_knn, tpr_knn, _ = roc_curve(y_train, y_scores_knn)\n",
    "roc_auc_knn = roc_auc_score(y_train, y_scores_knn)\n",
    "\n",
    "plot_roc_curve(fpr_knn, tpr_knn, roc_auc_knn)"
   ]
  },
  {
   "cell_type": "markdown",
   "metadata": {},
   "source": [
    "### Classifier: Support Vector Machine"
   ]
  },
  {
   "cell_type": "code",
   "execution_count": 28,
   "metadata": {},
   "outputs": [
    {
     "data": {
      "text/plain": [
       "SVC(C=5, break_ties=False, cache_size=200, class_weight=None, coef0=10,\n",
       "    decision_function_shape='ovr', degree=3, gamma='scale', kernel='poly',\n",
       "    max_iter=-1, probability=False, random_state=42, shrinking=True, tol=0.001,\n",
       "    verbose=False)"
      ]
     },
     "execution_count": 28,
     "metadata": {},
     "output_type": "execute_result"
    }
   ],
   "source": [
    "from sklearn.svm import SVC\n",
    "\n",
    "svm_poly_clf = SVC(kernel=\"poly\", degree=3, coef0=10, C=5, random_state=42)\n",
    "svm_poly_clf.fit(X_train_prepared, y_train)"
   ]
  },
  {
   "cell_type": "code",
   "execution_count": 29,
   "metadata": {},
   "outputs": [
    {
     "name": "stdout",
     "output_type": "stream",
     "text": [
      "Expected value:  [1] \n",
      "Predicted value: [0]\n"
     ]
    }
   ],
   "source": [
    "# trying a prediction\n",
    "single_prediction_svm_poly = svm_poly_clf.predict([X.iloc[pulsar_star]])\n",
    "\n",
    "print(\"Expected value: \",[y[pulsar_star]],\"\\nPredicted value:\", single_prediction_svm_poly)"
   ]
  },
  {
   "cell_type": "markdown",
   "metadata": {},
   "source": [
    "### SVM Performance Measures"
   ]
  },
  {
   "cell_type": "markdown",
   "metadata": {},
   "source": [
    "#### SVM - Cross-Validation"
   ]
  },
  {
   "cell_type": "code",
   "execution_count": 30,
   "metadata": {},
   "outputs": [
    {
     "name": "stdout",
     "output_type": "stream",
     "text": [
      "Accuracy: 0.9794\n"
     ]
    }
   ],
   "source": [
    "scores_svm_poly = cross_val_score(svm_poly_clf, X_train_prepared, y_train, cv=K, scoring=\"accuracy\")\n",
    "\n",
    "print(\"Accuracy:\", round(scores_svm_poly.mean(),4))"
   ]
  },
  {
   "cell_type": "markdown",
   "metadata": {},
   "source": [
    "#### SVM - Confusion Matrix"
   ]
  },
  {
   "cell_type": "code",
   "execution_count": 31,
   "metadata": {},
   "outputs": [
    {
     "data": {
      "image/png": "[encoded data removed]",
      "text/plain": [
       "<Figure size 432x288 with 2 Axes>"
      ]
     },
     "metadata": {
      "needs_background": "light"
     },
     "output_type": "display_data"
    }
   ],
   "source": [
    "y_train_pred_svm_poly = cross_val_predict(svm_poly_clf, X_train_prepared, y_train, cv=K)\n",
    "\n",
    "cm_svm = confusion_matrix(y_train, y_train_pred_svm_poly)\n",
    "\n",
    "draw_confusion_matrix(cm_svm, 'SVM - Confusion Matrix')"
   ]
  },
  {
   "cell_type": "markdown",
   "metadata": {},
   "source": [
    "#### SVM - Precision and Recall"
   ]
  },
  {
   "cell_type": "code",
   "execution_count": 32,
   "metadata": {},
   "outputs": [
    {
     "name": "stdout",
     "output_type": "stream",
     "text": [
      "Precision: 0.9361 \n",
      "Recall:    0.8331\n"
     ]
    }
   ],
   "source": [
    "precision_svm_poly = precision_score(y_train, y_train_pred_svm_poly)\n",
    "recall_svm_poly = recall_score(y_train, y_train_pred_svm_poly)\n",
    "\n",
    "print('Precision:', round(precision_svm_poly,4), '\\nRecall:   ', round(recall_svm_poly,4))"
   ]
  },
  {
   "cell_type": "code",
   "execution_count": 33,
   "metadata": {},
   "outputs": [
    {
     "name": "stdout",
     "output_type": "stream",
     "text": [
      "F1-Score: 0.8816\n"
     ]
    }
   ],
   "source": [
    "f1_score_svm_poly = f1_score(y_train, y_train_pred_svm_poly)\n",
    "\n",
    "print('F1-Score:', round(f1_score_svm_poly,4))"
   ]
  },
  {
   "cell_type": "code",
   "execution_count": 34,
   "metadata": {},
   "outputs": [
    {
     "data": {
      "image/png": "[encoded data removed]",
      "text/plain": [
       "<Figure size 432x288 with 1 Axes>"
      ]
     },
     "metadata": {
      "needs_background": "light"
     },
     "output_type": "display_data"
    }
   ],
   "source": [
    "# decision scores\n",
    "y_scores_svm_poly = cross_val_predict(svm_poly_clf, X_train_prepared, y_train, cv=K, method=\"decision_function\")\n",
    "\n",
    "precisions_svm_poly, recalls_svm_poly, _ = precision_recall_curve(y_train, y_scores_svm_poly)\n",
    "    \n",
    "plot_precison_vs_recall(precisions_svm_poly, recalls_svm_poly)"
   ]
  },
  {
   "cell_type": "markdown",
   "metadata": {},
   "source": [
    "#### SVM - ROC Curve"
   ]
  },
  {
   "cell_type": "code",
   "execution_count": 35,
   "metadata": {},
   "outputs": [
    {
     "data": {
      "image/png": "[encoded data removed]",
      "text/plain": [
       "<Figure size 432x288 with 1 Axes>"
      ]
     },
     "metadata": {
      "needs_background": "light"
     },
     "output_type": "display_data"
    }
   ],
   "source": [
    "fpr_svm_poly, tpr_svm_poly, _ = roc_curve(y_train, y_scores_svm_poly)\n",
    "roc_auc_svm_poly = roc_auc_score(y_train, y_scores_svm_poly)\n",
    "\n",
    "plot_roc_curve(fpr_svm_poly, tpr_svm_poly, roc_auc_svm_poly)"
   ]
  },
  {
   "cell_type": "markdown",
   "metadata": {},
   "source": [
    "### Classifier: Decision Tree"
   ]
  },
  {
   "cell_type": "code",
   "execution_count": 36,
   "metadata": {},
   "outputs": [
    {
     "data": {
      "text/plain": [
       "DecisionTreeClassifier(ccp_alpha=0.0, class_weight=None, criterion='gini',\n",
       "                       max_depth=None, max_features=None, max_leaf_nodes=None,\n",
       "                       min_impurity_decrease=0.0, min_impurity_split=None,\n",
       "                       min_samples_leaf=1, min_samples_split=2,\n",
       "                       min_weight_fraction_leaf=0.0, presort='deprecated',\n",
       "                       random_state=42, splitter='best')"
      ]
     },
     "execution_count": 36,
     "metadata": {},
     "output_type": "execute_result"
    }
   ],
   "source": [
    "from sklearn.tree import DecisionTreeClassifier\n",
    "\n",
    "dt_clf = DecisionTreeClassifier(random_state=42)\n",
    "\n",
    "# Decision Trees don't require feature scaling\n",
    "dt_clf.fit(X_train, y_train)"
   ]
  },
  {
   "cell_type": "code",
   "execution_count": 37,
   "metadata": {},
   "outputs": [
    {
     "name": "stdout",
     "output_type": "stream",
     "text": [
      "Expected value:  [1] \n",
      "Predicted value: [0]\n"
     ]
    }
   ],
   "source": [
    "# trying a prediction\n",
    "single_prediction_dt = dt_clf.predict([X.iloc[pulsar_star]])\n",
    "\n",
    "print(\"Expected value: \",[y[pulsar_star]],\"\\nPredicted value:\", single_prediction_dt)"
   ]
  },
  {
   "cell_type": "markdown",
   "metadata": {},
   "source": [
    "### DT Performance Measures"
   ]
  },
  {
   "cell_type": "markdown",
   "metadata": {},
   "source": [
    "#### DT - Cross-Validation"
   ]
  },
  {
   "cell_type": "code",
   "execution_count": 38,
   "metadata": {},
   "outputs": [
    {
     "name": "stdout",
     "output_type": "stream",
     "text": [
      "Accuracy: 0.967\n"
     ]
    }
   ],
   "source": [
    "scores_dt = cross_val_score(dt_clf, X_train, y_train, cv=K, scoring=\"accuracy\")\n",
    "\n",
    "print(\"Accuracy:\", round(scores_dt.mean(),4))"
   ]
  },
  {
   "cell_type": "markdown",
   "metadata": {},
   "source": [
    "#### DT - Confusion Matrix"
   ]
  },
  {
   "cell_type": "code",
   "execution_count": 39,
   "metadata": {},
   "outputs": [
    {
     "data": {
      "image/png": "[encoded data removed]",
      "text/plain": [
       "<Figure size 432x288 with 2 Axes>"
      ]
     },
     "metadata": {
      "needs_background": "light"
     },
     "output_type": "display_data"
    }
   ],
   "source": [
    "y_train_pred_dt = cross_val_predict(dt_clf, X_train, y_train, cv=K)\n",
    "\n",
    "cm_dt = confusion_matrix(y_train, y_train_pred_dt)\n",
    "\n",
    "draw_confusion_matrix(cm_dt, 'DT - Confusion Matrix')"
   ]
  },
  {
   "cell_type": "markdown",
   "metadata": {},
   "source": [
    "#### DT - Precision and Recall"
   ]
  },
  {
   "cell_type": "code",
   "execution_count": 40,
   "metadata": {},
   "outputs": [
    {
     "name": "stdout",
     "output_type": "stream",
     "text": [
      "Precision: 0.8174 \n",
      "Recall:    0.8255\n"
     ]
    }
   ],
   "source": [
    "precision_dt = precision_score(y_train, y_train_pred_dt)\n",
    "recall_dt = recall_score(y_train, y_train_pred_dt)\n",
    "\n",
    "print('Precision:', round(precision_dt,4), '\\nRecall:   ', round(recall_dt,4))"
   ]
  },
  {
   "cell_type": "code",
   "execution_count": 41,
   "metadata": {},
   "outputs": [
    {
     "name": "stdout",
     "output_type": "stream",
     "text": [
      "F1-Score: 0.8214\n"
     ]
    }
   ],
   "source": [
    "f1_score_dt = f1_score(y_train, y_train_pred_dt)\n",
    "\n",
    "print('F1-Score:', round(f1_score_dt,4))"
   ]
  },
  {
   "cell_type": "code",
   "execution_count": 42,
   "metadata": {},
   "outputs": [
    {
     "data": {
      "image/png": "[encoded data removed]",
      "text/plain": [
       "<Figure size 432x288 with 1 Axes>"
      ]
     },
     "metadata": {
      "needs_background": "light"
     },
     "output_type": "display_data"
    }
   ],
   "source": [
    "# predict probabilities\n",
    "y_probas_dt = cross_val_predict(dt_clf, X_train, y_train, cv=K, method=\"predict_proba\")\n",
    "# decision scores\n",
    "y_scores_dt = y_probas_dt[:,1]\n",
    "\n",
    "precisions_dt, recalls_dt, _ = precision_recall_curve(y_train, y_scores_dt)\n",
    "    \n",
    "plot_precison_vs_recall(precisions_dt, recalls_dt)"
   ]
  },
  {
   "cell_type": "markdown",
   "metadata": {},
   "source": [
    "#### DT - ROC Curve"
   ]
  },
  {
   "cell_type": "code",
   "execution_count": 43,
   "metadata": {},
   "outputs": [
    {
     "data": {
      "image/png": "[encoded data removed]",
      "text/plain": [
       "<Figure size 432x288 with 1 Axes>"
      ]
     },
     "metadata": {
      "needs_background": "light"
     },
     "output_type": "display_data"
    }
   ],
   "source": [
    "fpr_dt, tpr_dt, _ = roc_curve(y_train, y_scores_dt)\n",
    "roc_auc_dt = roc_auc_score(y_train, y_scores_dt)\n",
    "\n",
    "plot_roc_curve(fpr_dt, tpr_dt, roc_auc_dt)"
   ]
  },
  {
   "cell_type": "markdown",
   "metadata": {},
   "source": [
    "### Fine-Tune Models"
   ]
  },
  {
   "cell_type": "markdown",
   "metadata": {},
   "source": [
    "#### Grid Search - Parameters"
   ]
  },
  {
   "cell_type": "code",
   "execution_count": 44,
   "metadata": {},
   "outputs": [],
   "source": [
    "from sklearn.model_selection import GridSearchCV"
   ]
  },
  {
   "cell_type": "code",
   "execution_count": 45,
   "metadata": {},
   "outputs": [],
   "source": [
    "sgd_param_grid = [{\n",
    "    'loss':['hinge', 'squared_hinge', 'perceptron'],\n",
    "    'alpha':[0.0001, 0.001, 0.01, 0.1, 1, 10, 100, 1000],\n",
    "    'penalty':['l2','l1','elasticnet'],\n",
    "    'l1_ratio':[0.0, 0.1, 0.2, 0.3, 0.4, 0.5, 0.6, 0.7, 0.8, 0.9, 1],\n",
    "    'early_stopping':[True],\n",
    "    'shuffle':[True,False],\n",
    "    'random_state': [42]\n",
    "}]"
   ]
  },
  {
   "cell_type": "code",
   "execution_count": 46,
   "metadata": {},
   "outputs": [],
   "source": [
    "knn_param_grid = [{\n",
    "    'n_neighbors':[1, 2, 3, 4, 5, 6, 7, 8, 9, 10],\n",
    "    'weights':['uniform', 'distance'],\n",
    "    'metric':['minkowski'],\n",
    "    'p':[1.0, 1.5, 2.0, 2.5, 3.0, 3.5] \n",
    "}]"
   ]
  },
  {
   "cell_type": "code",
   "execution_count": 47,
   "metadata": {},
   "outputs": [],
   "source": [
    "svm_param_grid = [{\n",
    "    'C': [10, 15, 20],\n",
    "    'coef0':[0, 10, 100],\n",
    "    'kernel': ['poly'],\n",
    "    'random_state': [42]\n",
    "}]"
   ]
  },
  {
   "cell_type": "code",
   "execution_count": 48,
   "metadata": {},
   "outputs": [],
   "source": [
    "dt_param_grid = [{\n",
    "    'criterion':['gini', 'entropy'],\n",
    "    'splitter':['best','random'],\n",
    "    'max_depth':range(2,20,2),\n",
    "    'max_leaf_nodes': list(range(2, 100, 10)),\n",
    "    'max_features': [None, 'sqrt', 'log2'],\n",
    "    'random_state': [42]\n",
    "}]"
   ]
  },
  {
   "cell_type": "markdown",
   "metadata": {},
   "source": [
    "#### Grid Search"
   ]
  },
  {
   "cell_type": "code",
   "execution_count": 49,
   "metadata": {},
   "outputs": [],
   "source": [
    "models = {\n",
    "    'sgd': SGDClassifier(),\n",
    "    'knn': KNeighborsClassifier(),\n",
    "    'svm': SVC(),\n",
    "    'dt' : DecisionTreeClassifier()\n",
    "}\n",
    "\n",
    "params = {\n",
    "    'sgd': sgd_param_grid,\n",
    "    'knn': knn_param_grid,\n",
    "    'svm': svm_param_grid,\n",
    "    'dt' : dt_param_grid\n",
    "}\n",
    "\n",
    "grid_searches = {}\n",
    "for key in models:\n",
    "    model = models[key]\n",
    "    param_grid = params[key]\n",
    "    \n",
    "    grid_search = GridSearchCV(model, param_grid, cv=K, scoring='f1')\n",
    "    if key != 'dt':\n",
    "        grid_search.fit(X_train_prepared, y_train)\n",
    "    else:\n",
    "        grid_search.fit(X_train, y_train)\n",
    "    grid_searches[key] = grid_search"
   ]
  },
  {
   "cell_type": "markdown",
   "metadata": {},
   "source": [
    "### Select  the Best Model"
   ]
  },
  {
   "cell_type": "code",
   "execution_count": 50,
   "metadata": {},
   "outputs": [
    {
     "name": "stdout",
     "output_type": "stream",
     "text": [
      "sgd f1-score: 0.8865\n",
      "knn f1-score: 0.8822\n",
      "svm f1-score: 0.8836\n",
      "dt f1-score: 0.8841\n"
     ]
    }
   ],
   "source": [
    "model_scores = {}\n",
    "for key in grid_searches:\n",
    "    cv_res = grid_searches[key].cv_results_\n",
    "    score = max(cv_res['mean_test_score'])\n",
    "    model_scores[key] = score\n",
    "\n",
    "    print(key + ' f1-score:', round(model_scores[key],4))"
   ]
  },
  {
   "cell_type": "code",
   "execution_count": 51,
   "metadata": {},
   "outputs": [
    {
     "data": {
      "text/plain": [
       "SGDClassifier(alpha=0.001, average=False, class_weight=None,\n",
       "              early_stopping=True, epsilon=0.1, eta0=0.0, fit_intercept=True,\n",
       "              l1_ratio=0.0, learning_rate='optimal', loss='hinge',\n",
       "              max_iter=1000, n_iter_no_change=5, n_jobs=None, penalty='l1',\n",
       "              power_t=0.5, random_state=42, shuffle=True, tol=0.001,\n",
       "              validation_fraction=0.1, verbose=0, warm_start=False)"
      ]
     },
     "execution_count": 51,
     "metadata": {},
     "output_type": "execute_result"
    }
   ],
   "source": [
    "key_final_model = max(model_scores, key=model_scores.get)\n",
    "\n",
    "final_model = grid_searches[key_final_model].best_estimator_\n",
    "\n",
    "final_model"
   ]
  },
  {
   "cell_type": "markdown",
   "metadata": {},
   "source": [
    "### Save/Load Model"
   ]
  },
  {
   "cell_type": "code",
   "execution_count": 52,
   "metadata": {},
   "outputs": [
    {
     "data": {
      "text/plain": [
       "['../SavedModels/sgd_model.pkl']"
      ]
     },
     "execution_count": 52,
     "metadata": {},
     "output_type": "execute_result"
    }
   ],
   "source": [
    "import joblib\n",
    "\n",
    "model = final_model\n",
    "model_name = key_final_model + '_model.pkl'\n",
    "\n",
    "# Save Model\n",
    "joblib.dump(model, '../SavedModels/' + model_name)\n",
    "\n",
    "# Load Model\n",
    "# final_model = joblib.load('../SavedModels/' + model_name)\n"
   ]
  },
  {
   "cell_type": "markdown",
   "metadata": {},
   "source": [
    "### Evaluate the Best Model on Test Set"
   ]
  },
  {
   "cell_type": "code",
   "execution_count": 53,
   "metadata": {},
   "outputs": [
    {
     "name": "stdout",
     "output_type": "stream",
     "text": [
      "Precision: 0.9517 \n",
      "Recall:    0.7975\n",
      "F1-Score:  0.8678\n"
     ]
    }
   ],
   "source": [
    "X_test_prepared = pipeline.transform(X_test)\n",
    "\n",
    "final_predictions = final_model.predict(X_test_prepared)\n",
    "\n",
    "final_recall = recall_score(y_test, final_predictions)\n",
    "final_precision = precision_score(y_test, final_predictions)\n",
    "final_f1_score = f1_score(y_test, final_predictions)\n",
    "\n",
    "print('Precision:',   round(final_precision,4),\n",
    "      '\\nRecall:   ', round(final_recall,4))\n",
    "print('F1-Score: ',   round(final_f1_score,4))"
   ]
  },
  {
   "cell_type": "code",
   "execution_count": 54,
   "metadata": {},
   "outputs": [
    {
     "data": {
      "image/png": "[encoded data removed]",
      "text/plain": [
       "<Figure size 432x288 with 1 Axes>"
      ]
     },
     "metadata": {
      "needs_background": "light"
     },
     "output_type": "display_data"
    }
   ],
   "source": [
    "precisions, recalls, _ = precision_recall_curve(y_test, final_predictions)\n",
    " \n",
    "plot_precison_vs_recall(precisions, recalls)"
   ]
  },
  {
   "cell_type": "code",
   "execution_count": 55,
   "metadata": {},
   "outputs": [
    {
     "data": {
      "image/png": "[encoded data removed]",
      "text/plain": [
       "<Figure size 432x288 with 2 Axes>"
      ]
     },
     "metadata": {
      "needs_background": "light"
     },
     "output_type": "display_data"
    }
   ],
   "source": [
    "final_cm = confusion_matrix(y_test, final_predictions)\n",
    "\n",
    "draw_confusion_matrix(final_cm, 'Final Confusion Matrix')"
   ]
  },
  {
   "cell_type": "code",
   "execution_count": 56,
   "metadata": {},
   "outputs": [
    {
     "name": "stdout",
     "output_type": "stream",
     "text": [
      "Expected value:  [1] \n",
      "Predicted value: [1]\n"
     ]
    }
   ],
   "source": [
    "# trying a prediction\n",
    "single_prediction = final_model.predict([X.iloc[pulsar_star]])\n",
    "\n",
    "print(\"Expected value: \",[y[pulsar_star]],\"\\nPredicted value:\", single_prediction)"
   ]
  },
  {
   "cell_type": "code",
   "execution_count": null,
   "metadata": {},
   "outputs": [],
   "source": []
  }
 ],
 "metadata": {
  "kernelspec": {
   "display_name": "Python 3",
   "language": "python",
   "name": "python3"
  },
  "language_info": {
   "codemirror_mode": {
    "name": "ipython",
    "version": 3
   },
   "file_extension": ".py",
   "mimetype": "text/x-python",
   "name": "python",
   "nbconvert_exporter": "python",
   "pygments_lexer": "ipython3",
   "version": "3.6.9"
  }
 },
 "nbformat": 4,
 "nbformat_minor": 2
}
